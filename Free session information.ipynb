{
 "cells": [
  {
   "cell_type": "code",
   "execution_count": 1,
   "metadata": {},
   "outputs": [],
   "source": [
    "import numpy as np\n",
    "import pandas as pd\n",
    "import matplotlib.pyplot as plt\n",
    "import datetime\n"
   ]
  },
  {
   "cell_type": "code",
   "execution_count": 2,
   "metadata": {},
   "outputs": [],
   "source": [
    "free_session_info=pd.read_csv('free_session_info.csv')"
   ]
  },
  {
   "cell_type": "code",
   "execution_count": 3,
   "metadata": {},
   "outputs": [
    {
     "data": {
      "text/html": [
       "<div>\n",
       "<style scoped>\n",
       "    .dataframe tbody tr th:only-of-type {\n",
       "        vertical-align: middle;\n",
       "    }\n",
       "\n",
       "    .dataframe tbody tr th {\n",
       "        vertical-align: top;\n",
       "    }\n",
       "\n",
       "    .dataframe thead th {\n",
       "        text-align: right;\n",
       "    }\n",
       "</style>\n",
       "<table border=\"1\" class=\"dataframe\">\n",
       "  <thead>\n",
       "    <tr style=\"text-align: right;\">\n",
       "      <th></th>\n",
       "      <th>Time Stamp</th>\n",
       "      <th>Name of the candidate</th>\n",
       "      <th>Contact</th>\n",
       "      <th>Email id</th>\n",
       "      <th>College name</th>\n",
       "      <th>Brach</th>\n",
       "      <th>People having laptop</th>\n",
       "      <th>Souce of communication</th>\n",
       "      <th>Unnamed: 8</th>\n",
       "      <th>Unnamed: 9</th>\n",
       "      <th>Country</th>\n",
       "    </tr>\n",
       "  </thead>\n",
       "  <tbody>\n",
       "    <tr>\n",
       "      <th>0</th>\n",
       "      <td>8/24/2020 17:01:39</td>\n",
       "      <td>A.S.M. Raquibul Hasan</td>\n",
       "      <td>01722577922</td>\n",
       "      <td>raquibul.nsu@gmail.com</td>\n",
       "      <td>United International University</td>\n",
       "      <td>others</td>\n",
       "      <td>Yes</td>\n",
       "      <td>Facebook</td>\n",
       "      <td>NaN</td>\n",
       "      <td>NaN</td>\n",
       "      <td>Bangladesh</td>\n",
       "    </tr>\n",
       "    <tr>\n",
       "      <th>1</th>\n",
       "      <td>8/24/2020 10:08:54</td>\n",
       "      <td>Abdullah</td>\n",
       "      <td>NaN</td>\n",
       "      <td>sharif3abdullah@gmail.com</td>\n",
       "      <td>IIT</td>\n",
       "      <td>Engineering</td>\n",
       "      <td>NaN</td>\n",
       "      <td>NaN</td>\n",
       "      <td>NaN</td>\n",
       "      <td>NaN</td>\n",
       "      <td>Bangladesh</td>\n",
       "    </tr>\n",
       "    <tr>\n",
       "      <th>2</th>\n",
       "      <td>8/24/2020 9:20:28</td>\n",
       "      <td>Abdullah Bin Murad</td>\n",
       "      <td>01552443554</td>\n",
       "      <td>abmrifat54@gmail.com</td>\n",
       "      <td>Shahjalal University of Science and Technology</td>\n",
       "      <td>Engineering</td>\n",
       "      <td>Yes</td>\n",
       "      <td>NaN</td>\n",
       "      <td>NaN</td>\n",
       "      <td>NaN</td>\n",
       "      <td>Bangladesh</td>\n",
       "    </tr>\n",
       "    <tr>\n",
       "      <th>3</th>\n",
       "      <td>7/28/2020 12:16:30</td>\n",
       "      <td>Abhijoy Mukherjee</td>\n",
       "      <td>7003206060</td>\n",
       "      <td>abhijoymukherjee01@gmail.com</td>\n",
       "      <td>Asutosh College</td>\n",
       "      <td>Statistics</td>\n",
       "      <td>Yes</td>\n",
       "      <td>Friend</td>\n",
       "      <td>4.0</td>\n",
       "      <td>NaN</td>\n",
       "      <td>India</td>\n",
       "    </tr>\n",
       "    <tr>\n",
       "      <th>4</th>\n",
       "      <td>7/10/2020 13:56:14</td>\n",
       "      <td>Abhipreeti Acharjee</td>\n",
       "      <td>8274839744</td>\n",
       "      <td>deepamandal007@gmail.com</td>\n",
       "      <td>DEPARTMENT OF PURE MATHEMATICS, UNIVERSITY OF ...</td>\n",
       "      <td>PURE MATHEMATICS</td>\n",
       "      <td>Yes</td>\n",
       "      <td>NaN</td>\n",
       "      <td>2.0</td>\n",
       "      <td>NaN</td>\n",
       "      <td>India</td>\n",
       "    </tr>\n",
       "  </tbody>\n",
       "</table>\n",
       "</div>"
      ],
      "text/plain": [
       "          Time Stamp   Name of the candidate      Contact   \\\n",
       "0  8/24/2020 17:01:39  A.S.M. Raquibul Hasan   01722577922   \n",
       "1  8/24/2020 10:08:54                Abdullah          NaN   \n",
       "2   8/24/2020 9:20:28    Abdullah Bin Murad    01552443554   \n",
       "3  7/28/2020 12:16:30       Abhijoy Mukherjee   7003206060   \n",
       "4  7/10/2020 13:56:14     Abhipreeti Acharjee   8274839744   \n",
       "\n",
       "                      Email id   \\\n",
       "0        raquibul.nsu@gmail.com   \n",
       "1     sharif3abdullah@gmail.com   \n",
       "2          abmrifat54@gmail.com   \n",
       "3  abhijoymukherjee01@gmail.com   \n",
       "4      deepamandal007@gmail.com   \n",
       "\n",
       "                                       College name             Brach   \\\n",
       "0                   United International University             others   \n",
       "1                                                IIT       Engineering   \n",
       "2     Shahjalal University of Science and Technology       Engineering   \n",
       "3                                    Asutosh College        Statistics   \n",
       "4  DEPARTMENT OF PURE MATHEMATICS, UNIVERSITY OF ...  PURE MATHEMATICS   \n",
       "\n",
       "  People having laptop  Souce of communication   Unnamed: 8  Unnamed: 9  \\\n",
       "0                   Yes               Facebook          NaN         NaN   \n",
       "1                   NaN                     NaN         NaN         NaN   \n",
       "2                   Yes                     NaN         NaN         NaN   \n",
       "3                   Yes                  Friend         4.0         NaN   \n",
       "4                   Yes                     NaN         2.0         NaN   \n",
       "\n",
       "     Country   \n",
       "0  Bangladesh  \n",
       "1  Bangladesh  \n",
       "2  Bangladesh  \n",
       "3       India  \n",
       "4       India  "
      ]
     },
     "execution_count": 3,
     "metadata": {},
     "output_type": "execute_result"
    }
   ],
   "source": [
    "free_session_info.head()"
   ]
  },
  {
   "cell_type": "code",
   "execution_count": 4,
   "metadata": {},
   "outputs": [
    {
     "name": "stdout",
     "output_type": "stream",
     "text": [
      "<class 'pandas.core.frame.DataFrame'>\n",
      "RangeIndex: 968 entries, 0 to 967\n",
      "Data columns (total 11 columns):\n",
      " #   Column                   Non-Null Count  Dtype  \n",
      "---  ------                   --------------  -----  \n",
      " 0   Time Stamp               948 non-null    object \n",
      " 1   Name of the candidate    947 non-null    object \n",
      " 2   Contact                  909 non-null    object \n",
      " 3   Email id                 946 non-null    object \n",
      " 4   College name             940 non-null    object \n",
      " 5   Brach                    933 non-null    object \n",
      " 6   People having laptop     940 non-null    object \n",
      " 7   Souce of communication   432 non-null    object \n",
      " 8   Unnamed: 8               318 non-null    float64\n",
      " 9   Unnamed: 9               0 non-null      float64\n",
      " 10  Country                  476 non-null    object \n",
      "dtypes: float64(2), object(9)\n",
      "memory usage: 49.2+ KB\n"
     ]
    }
   ],
   "source": [
    "free_session_info.info()\n"
   ]
  },
  {
   "cell_type": "code",
   "execution_count": 5,
   "metadata": {},
   "outputs": [],
   "source": [
    "free_session_info=free_session_info.drop(columns=['Unnamed: 8','Unnamed: 9'])"
   ]
  },
  {
   "cell_type": "code",
   "execution_count": 6,
   "metadata": {},
   "outputs": [],
   "source": [
    "free_session_info.columns=['Time stamp','Name','Contact','Email','Collage Name','Branch','Have laptop','Communication source','Country']\n"
   ]
  },
  {
   "cell_type": "code",
   "execution_count": 7,
   "metadata": {},
   "outputs": [],
   "source": [
    "free_session_info['Time stamp'] = pd.to_datetime(free_session_info['Time stamp'],errors='coerce')\n"
   ]
  },
  {
   "cell_type": "code",
   "execution_count": 8,
   "metadata": {},
   "outputs": [
    {
     "name": "stdout",
     "output_type": "stream",
     "text": [
      "<class 'pandas.core.frame.DataFrame'>\n",
      "RangeIndex: 968 entries, 0 to 967\n",
      "Data columns (total 9 columns):\n",
      " #   Column                Non-Null Count  Dtype         \n",
      "---  ------                --------------  -----         \n",
      " 0   Time stamp            946 non-null    datetime64[ns]\n",
      " 1   Name                  947 non-null    object        \n",
      " 2   Contact               909 non-null    object        \n",
      " 3   Email                 946 non-null    object        \n",
      " 4   Collage Name          940 non-null    object        \n",
      " 5   Branch                933 non-null    object        \n",
      " 6   Have laptop           940 non-null    object        \n",
      " 7   Communication source  432 non-null    object        \n",
      " 8   Country               476 non-null    object        \n",
      "dtypes: datetime64[ns](1), object(8)\n",
      "memory usage: 37.9+ KB\n"
     ]
    }
   ],
   "source": [
    "free_session_info.info()"
   ]
  },
  {
   "cell_type": "code",
   "execution_count": 9,
   "metadata": {},
   "outputs": [],
   "source": [
    "free_session_info.replace({'?':np.nan,'--':np.nan,'-':np.nan},inplace=True)"
   ]
  },
  {
   "cell_type": "code",
   "execution_count": 10,
   "metadata": {},
   "outputs": [
    {
     "data": {
      "text/plain": [
       "Time stamp               22\n",
       "Name                     21\n",
       "Contact                  59\n",
       "Email                    22\n",
       "Collage Name             28\n",
       "Branch                   35\n",
       "Have laptop              28\n",
       "Communication source    536\n",
       "Country                 492\n",
       "dtype: int64"
      ]
     },
     "execution_count": 10,
     "metadata": {},
     "output_type": "execute_result"
    }
   ],
   "source": [
    "free_session_info.isna().sum()"
   ]
  },
  {
   "cell_type": "code",
   "execution_count": 11,
   "metadata": {},
   "outputs": [],
   "source": [
    "\n",
    "free_session_info.Country=np.where(len(free_session_info.Contact)>10,free_session_info.Country.fillna('Bangladesh'),free_session_info.Country.fillna('India'))"
   ]
  },
  {
   "cell_type": "code",
   "execution_count": 12,
   "metadata": {},
   "outputs": [
    {
     "data": {
      "text/plain": [
       "Time stamp               22\n",
       "Name                     21\n",
       "Contact                  59\n",
       "Email                    22\n",
       "Collage Name             28\n",
       "Branch                   35\n",
       "Have laptop              28\n",
       "Communication source    536\n",
       "Country                   0\n",
       "dtype: int64"
      ]
     },
     "execution_count": 12,
     "metadata": {},
     "output_type": "execute_result"
    }
   ],
   "source": [
    "free_session_info.isna().sum()"
   ]
  },
  {
   "cell_type": "code",
   "execution_count": 13,
   "metadata": {},
   "outputs": [],
   "source": [
    "free_session_info['Communication source'].fillna('Unknown',inplace=True)"
   ]
  },
  {
   "cell_type": "code",
   "execution_count": 14,
   "metadata": {},
   "outputs": [],
   "source": [
    "free_session_info_dropped=free_session_info.dropna()"
   ]
  },
  {
   "cell_type": "code",
   "execution_count": 15,
   "metadata": {},
   "outputs": [],
   "source": [
    "free_session_info=free_session_info_dropped.reset_index(drop=True)\n"
   ]
  },
  {
   "cell_type": "code",
   "execution_count": 16,
   "metadata": {},
   "outputs": [
    {
     "data": {
      "text/html": [
       "<div>\n",
       "<style scoped>\n",
       "    .dataframe tbody tr th:only-of-type {\n",
       "        vertical-align: middle;\n",
       "    }\n",
       "\n",
       "    .dataframe tbody tr th {\n",
       "        vertical-align: top;\n",
       "    }\n",
       "\n",
       "    .dataframe thead th {\n",
       "        text-align: right;\n",
       "    }\n",
       "</style>\n",
       "<table border=\"1\" class=\"dataframe\">\n",
       "  <thead>\n",
       "    <tr style=\"text-align: right;\">\n",
       "      <th></th>\n",
       "      <th>Time stamp</th>\n",
       "      <th>Name</th>\n",
       "      <th>Contact</th>\n",
       "      <th>Email</th>\n",
       "      <th>Collage Name</th>\n",
       "      <th>Branch</th>\n",
       "      <th>Have laptop</th>\n",
       "      <th>Communication source</th>\n",
       "      <th>Country</th>\n",
       "      <th>collage name</th>\n",
       "    </tr>\n",
       "  </thead>\n",
       "  <tbody>\n",
       "    <tr>\n",
       "      <th>0</th>\n",
       "      <td>2020-08-24 17:01:39</td>\n",
       "      <td>A.S.M. Raquibul Hasan</td>\n",
       "      <td>01722577922</td>\n",
       "      <td>raquibul.nsu@gmail.com</td>\n",
       "      <td>United International University</td>\n",
       "      <td>others</td>\n",
       "      <td>Yes</td>\n",
       "      <td>Facebook</td>\n",
       "      <td>Bangladesh</td>\n",
       "      <td>united international university</td>\n",
       "    </tr>\n",
       "    <tr>\n",
       "      <th>1</th>\n",
       "      <td>2020-08-24 09:20:28</td>\n",
       "      <td>Abdullah Bin Murad</td>\n",
       "      <td>01552443554</td>\n",
       "      <td>abmrifat54@gmail.com</td>\n",
       "      <td>Shahjalal University of Science and Technology</td>\n",
       "      <td>Engineering</td>\n",
       "      <td>Yes</td>\n",
       "      <td>Unknown</td>\n",
       "      <td>Bangladesh</td>\n",
       "      <td>shahjalal university of science and technology</td>\n",
       "    </tr>\n",
       "    <tr>\n",
       "      <th>2</th>\n",
       "      <td>2020-07-28 12:16:30</td>\n",
       "      <td>Abhijoy Mukherjee</td>\n",
       "      <td>7003206060</td>\n",
       "      <td>abhijoymukherjee01@gmail.com</td>\n",
       "      <td>Asutosh College</td>\n",
       "      <td>Statistics</td>\n",
       "      <td>Yes</td>\n",
       "      <td>Friend</td>\n",
       "      <td>India</td>\n",
       "      <td>asutosh college</td>\n",
       "    </tr>\n",
       "    <tr>\n",
       "      <th>3</th>\n",
       "      <td>2020-07-10 13:56:14</td>\n",
       "      <td>Abhipreeti Acharjee</td>\n",
       "      <td>8274839744</td>\n",
       "      <td>deepamandal007@gmail.com</td>\n",
       "      <td>DEPARTMENT OF PURE MATHEMATICS, UNIVERSITY OF ...</td>\n",
       "      <td>PURE MATHEMATICS</td>\n",
       "      <td>Yes</td>\n",
       "      <td>Unknown</td>\n",
       "      <td>India</td>\n",
       "      <td>department of pure mathematics, university of ...</td>\n",
       "    </tr>\n",
       "    <tr>\n",
       "      <th>4</th>\n",
       "      <td>2020-07-28 13:14:59</td>\n",
       "      <td>Abhiraj Bhattacharya</td>\n",
       "      <td>6289897311</td>\n",
       "      <td>abhattacharyya2001@gmail.com</td>\n",
       "      <td>Vivekananda College</td>\n",
       "      <td>B.Sc statistics</td>\n",
       "      <td>Yes</td>\n",
       "      <td>Friend</td>\n",
       "      <td>India</td>\n",
       "      <td>vivekananda college</td>\n",
       "    </tr>\n",
       "    <tr>\n",
       "      <th>...</th>\n",
       "      <td>...</td>\n",
       "      <td>...</td>\n",
       "      <td>...</td>\n",
       "      <td>...</td>\n",
       "      <td>...</td>\n",
       "      <td>...</td>\n",
       "      <td>...</td>\n",
       "      <td>...</td>\n",
       "      <td>...</td>\n",
       "      <td>...</td>\n",
       "    </tr>\n",
       "    <tr>\n",
       "      <th>881</th>\n",
       "      <td>2021-01-22 22:06:24</td>\n",
       "      <td>Ramanish Banerjee</td>\n",
       "      <td>8017179702</td>\n",
       "      <td>banerjeeramanish@gmail.com</td>\n",
       "      <td>MAULANA AZAD COLLEGE</td>\n",
       "      <td>Honors (BSC/MSC)</td>\n",
       "      <td>Yes</td>\n",
       "      <td>Unknown</td>\n",
       "      <td>Bangladesh</td>\n",
       "      <td>maulana azad college</td>\n",
       "    </tr>\n",
       "    <tr>\n",
       "      <th>882</th>\n",
       "      <td>2021-01-22 22:46:21</td>\n",
       "      <td>Jinia Banerjee</td>\n",
       "      <td>6289719175</td>\n",
       "      <td>jiniabanerjee9727@gmail.com</td>\n",
       "      <td>Maulona Azad College</td>\n",
       "      <td>Honors (BSC/MSC)</td>\n",
       "      <td>No</td>\n",
       "      <td>Unknown</td>\n",
       "      <td>Bangladesh</td>\n",
       "      <td>maulona azad college</td>\n",
       "    </tr>\n",
       "    <tr>\n",
       "      <th>883</th>\n",
       "      <td>2021-01-23 10:57:08</td>\n",
       "      <td>Md Safiqul Islam</td>\n",
       "      <td>8250955315</td>\n",
       "      <td>safiqulislam6006@gmail.com</td>\n",
       "      <td>Maulana Azad College</td>\n",
       "      <td>Honors (BSC/MSC)</td>\n",
       "      <td>Yes</td>\n",
       "      <td>Unknown</td>\n",
       "      <td>Bangladesh</td>\n",
       "      <td>maulana azad college</td>\n",
       "    </tr>\n",
       "    <tr>\n",
       "      <th>884</th>\n",
       "      <td>2021-01-23 12:27:32</td>\n",
       "      <td>Soumojit Chatterjee</td>\n",
       "      <td>8101726672</td>\n",
       "      <td>imsoumojit@yahoo.com</td>\n",
       "      <td>Maulana Azad College</td>\n",
       "      <td>Honors (BSC/MSC)</td>\n",
       "      <td>Yes</td>\n",
       "      <td>Unknown</td>\n",
       "      <td>Bangladesh</td>\n",
       "      <td>maulana azad college</td>\n",
       "    </tr>\n",
       "    <tr>\n",
       "      <th>885</th>\n",
       "      <td>2021-01-23 17:37:35</td>\n",
       "      <td>Debanjan Bhattacharjee</td>\n",
       "      <td>6290909245</td>\n",
       "      <td>debanjanbhattacharjee2002@gmail.com</td>\n",
       "      <td>Maulana Azad College</td>\n",
       "      <td>Honors (BSC/MSC)</td>\n",
       "      <td>Yes</td>\n",
       "      <td>Unknown</td>\n",
       "      <td>Bangladesh</td>\n",
       "      <td>maulana azad college</td>\n",
       "    </tr>\n",
       "  </tbody>\n",
       "</table>\n",
       "<p>886 rows × 10 columns</p>\n",
       "</div>"
      ],
      "text/plain": [
       "             Time stamp                    Name      Contact  \\\n",
       "0   2020-08-24 17:01:39  A.S.M. Raquibul Hasan   01722577922   \n",
       "1   2020-08-24 09:20:28    Abdullah Bin Murad    01552443554   \n",
       "2   2020-07-28 12:16:30       Abhijoy Mukherjee   7003206060   \n",
       "3   2020-07-10 13:56:14     Abhipreeti Acharjee   8274839744   \n",
       "4   2020-07-28 13:14:59    Abhiraj Bhattacharya   6289897311   \n",
       "..                  ...                     ...          ...   \n",
       "881 2021-01-22 22:06:24       Ramanish Banerjee   8017179702   \n",
       "882 2021-01-22 22:46:21          Jinia Banerjee   6289719175   \n",
       "883 2021-01-23 10:57:08        Md Safiqul Islam   8250955315   \n",
       "884 2021-01-23 12:27:32     Soumojit Chatterjee   8101726672   \n",
       "885 2021-01-23 17:37:35  Debanjan Bhattacharjee   6290909245   \n",
       "\n",
       "                                   Email  \\\n",
       "0                 raquibul.nsu@gmail.com   \n",
       "1                   abmrifat54@gmail.com   \n",
       "2           abhijoymukherjee01@gmail.com   \n",
       "3               deepamandal007@gmail.com   \n",
       "4           abhattacharyya2001@gmail.com   \n",
       "..                                   ...   \n",
       "881           banerjeeramanish@gmail.com   \n",
       "882          jiniabanerjee9727@gmail.com   \n",
       "883           safiqulislam6006@gmail.com   \n",
       "884                 imsoumojit@yahoo.com   \n",
       "885  debanjanbhattacharjee2002@gmail.com   \n",
       "\n",
       "                                          Collage Name            Branch  \\\n",
       "0                     United International University             others   \n",
       "1       Shahjalal University of Science and Technology       Engineering   \n",
       "2                                      Asutosh College        Statistics   \n",
       "3    DEPARTMENT OF PURE MATHEMATICS, UNIVERSITY OF ...  PURE MATHEMATICS   \n",
       "4                                  Vivekananda College   B.Sc statistics   \n",
       "..                                                 ...               ...   \n",
       "881                               MAULANA AZAD COLLEGE  Honors (BSC/MSC)   \n",
       "882                               Maulona Azad College  Honors (BSC/MSC)   \n",
       "883                               Maulana Azad College  Honors (BSC/MSC)   \n",
       "884                               Maulana Azad College  Honors (BSC/MSC)   \n",
       "885                               Maulana Azad College  Honors (BSC/MSC)   \n",
       "\n",
       "    Have laptop Communication source     Country  \\\n",
       "0           Yes            Facebook   Bangladesh   \n",
       "1           Yes              Unknown  Bangladesh   \n",
       "2           Yes               Friend       India   \n",
       "3           Yes              Unknown       India   \n",
       "4           Yes               Friend       India   \n",
       "..          ...                  ...         ...   \n",
       "881         Yes              Unknown  Bangladesh   \n",
       "882          No              Unknown  Bangladesh   \n",
       "883         Yes              Unknown  Bangladesh   \n",
       "884         Yes              Unknown  Bangladesh   \n",
       "885         Yes              Unknown  Bangladesh   \n",
       "\n",
       "                                          collage name  \n",
       "0                     united international university   \n",
       "1       shahjalal university of science and technology  \n",
       "2                                      asutosh college  \n",
       "3    department of pure mathematics, university of ...  \n",
       "4                                  vivekananda college  \n",
       "..                                                 ...  \n",
       "881                               maulana azad college  \n",
       "882                               maulona azad college  \n",
       "883                               maulana azad college  \n",
       "884                               maulana azad college  \n",
       "885                               maulana azad college  \n",
       "\n",
       "[886 rows x 10 columns]"
      ]
     },
     "execution_count": 16,
     "metadata": {},
     "output_type": "execute_result"
    }
   ],
   "source": [
    "free_session_info['collage name']=free_session_info['Collage Name'].apply(lambda x: x.lower())\n",
    "free_session_info"
   ]
  },
  {
   "cell_type": "code",
   "execution_count": 17,
   "metadata": {},
   "outputs": [
    {
     "data": {
      "image/png": "[encoded data removed]",
      "text/plain": [
       "<Figure size 432x288 with 1 Axes>"
      ]
     },
     "metadata": {
      "needs_background": "light"
     },
     "output_type": "display_data"
    }
   ],
   "source": [
    "university=free_session_info['collage name'].value_counts()[:20].sort_values(ascending=True).plot(kind='barh',color='black',linewidth=2,title='Students Came From University (Leading)')"
   ]
  },
  {
   "cell_type": "code",
   "execution_count": 18,
   "metadata": {},
   "outputs": [
    {
     "data": {
      "image/png": "[encoded data removed]",
      "text/plain": [
       "<Figure size 432x288 with 1 Axes>"
      ]
     },
     "metadata": {
      "needs_background": "light"
     },
     "output_type": "display_data"
    }
   ],
   "source": [
    "department=free_session_info['Branch'].value_counts()[:20].sort_values(ascending=False).plot(kind='bar',linewidth=2,title='Leading departments')"
   ]
  },
  {
   "cell_type": "code",
   "execution_count": 19,
   "metadata": {},
   "outputs": [
    {
     "data": {
      "image/png": "[encoded data removed]",
      "text/plain": [
       "<Figure size 432x288 with 1 Axes>"
      ]
     },
     "metadata": {
      "needs_background": "light"
     },
     "output_type": "display_data"
    }
   ],
   "source": [
    "import seaborn as sns\n",
    "sns.countplot(x=\"Have laptop\",hue='Have laptop', data=free_session_info,palette=\"Set2\")\n",
    "plt.title('People Having Laptop')\n",
    "plt.show()\n"
   ]
  },
  {
   "cell_type": "code",
   "execution_count": 20,
   "metadata": {},
   "outputs": [],
   "source": [
    "show=free_session_info.loc[(free_session_info['Have laptop']=='No')][['Collage Name','Branch','Country']]"
   ]
  },
  {
   "cell_type": "code",
   "execution_count": 21,
   "metadata": {},
   "outputs": [
    {
     "data": {
      "text/html": [
       "<div>\n",
       "<style scoped>\n",
       "    .dataframe tbody tr th:only-of-type {\n",
       "        vertical-align: middle;\n",
       "    }\n",
       "\n",
       "    .dataframe tbody tr th {\n",
       "        vertical-align: top;\n",
       "    }\n",
       "\n",
       "    .dataframe thead th {\n",
       "        text-align: right;\n",
       "    }\n",
       "</style>\n",
       "<table border=\"1\" class=\"dataframe\">\n",
       "  <thead>\n",
       "    <tr style=\"text-align: right;\">\n",
       "      <th></th>\n",
       "      <th>Collage Name</th>\n",
       "      <th>Branch</th>\n",
       "      <th>Country</th>\n",
       "    </tr>\n",
       "  </thead>\n",
       "  <tbody>\n",
       "    <tr>\n",
       "      <th>8</th>\n",
       "      <td>Global Nature Care Sangathan Group Of Institut...</td>\n",
       "      <td>Civil Engineering</td>\n",
       "      <td>India</td>\n",
       "    </tr>\n",
       "    <tr>\n",
       "      <th>20</th>\n",
       "      <td>Ramakrishna Mission Shilpapitha</td>\n",
       "      <td>Electronics and telecommunication</td>\n",
       "      <td>India</td>\n",
       "    </tr>\n",
       "    <tr>\n",
       "      <th>23</th>\n",
       "      <td>Viswass school &amp; college of nursing</td>\n",
       "      <td>B.sc nursing</td>\n",
       "      <td>India</td>\n",
       "    </tr>\n",
       "    <tr>\n",
       "      <th>25</th>\n",
       "      <td>Maulana Azad College</td>\n",
       "      <td>Statistics (H)</td>\n",
       "      <td>India</td>\n",
       "    </tr>\n",
       "    <tr>\n",
       "      <th>28</th>\n",
       "      <td>Insitiution of engineering and managment</td>\n",
       "      <td>B. Tech (Cse)</td>\n",
       "      <td>India</td>\n",
       "    </tr>\n",
       "  </tbody>\n",
       "</table>\n",
       "</div>"
      ],
      "text/plain": [
       "                                         Collage Name  \\\n",
       "8   Global Nature Care Sangathan Group Of Institut...   \n",
       "20                    Ramakrishna Mission Shilpapitha   \n",
       "23                Viswass school & college of nursing   \n",
       "25                              Maulana Azad College    \n",
       "28           Insitiution of engineering and managment   \n",
       "\n",
       "                               Branch Country  \n",
       "8                   Civil Engineering   India  \n",
       "20  Electronics and telecommunication   India  \n",
       "23                       B.sc nursing   India  \n",
       "25                     Statistics (H)   India  \n",
       "28                     B. Tech (Cse)    India  "
      ]
     },
     "execution_count": 21,
     "metadata": {},
     "output_type": "execute_result"
    }
   ],
   "source": [
    "show.head()"
   ]
  },
  {
   "cell_type": "code",
   "execution_count": 22,
   "metadata": {},
   "outputs": [
    {
     "data": {
      "image/png": "[encoded data removed]",
      "text/plain": [
       "<Figure size 432x288 with 1 Axes>"
      ]
     },
     "metadata": {
      "needs_background": "light"
     },
     "output_type": "display_data"
    }
   ],
   "source": [
    "communication_source=free_session_info['Communication source'].value_counts()[:20].sort_values(ascending=True).plot(kind='barh',linewidth=2,color='red',title='All Types Of Commuinication Source')"
   ]
  },
  {
   "cell_type": "code",
   "execution_count": null,
   "metadata": {},
   "outputs": [],
   "source": []
  }
 ],
 "metadata": {
  "kernelspec": {
   "display_name": "Python 3",
   "language": "python",
   "name": "python3"
  },
  "language_info": {
   "codemirror_mode": {
    "name": "ipython",
    "version": 3
   },
   "file_extension": ".py",
   "mimetype": "text/x-python",
   "name": "python",
   "nbconvert_exporter": "python",
   "pygments_lexer": "ipython3",
   "version": "3.8.5"
  }
 },
 "nbformat": 4,
 "nbformat_minor": 4
}
